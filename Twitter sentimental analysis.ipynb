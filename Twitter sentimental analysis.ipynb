{
 "cells": [
  {
   "cell_type": "code",
   "execution_count": 13,
   "metadata": {
    "scrolled": true
   },
   "outputs": [
    {
     "name": "stdout",
     "output_type": "stream",
     "text": [
      "RT @NASAHubble: #HubbleFriday The Tarantula Nebula is 1 of the most intense regions of star formation in our galactic neighborhood:\n",
      "https:/…\n",
      "Sentiment(polarity=0.35, subjectivity=0.75)\n",
      "RT @rmmEaT3i: A handful of curlyhair tarantula (Brachypelma albopilosum) helps keep the season merry &amp; bright. 🎃#Arachtober #Monstober #Hal…\n",
      "Sentiment(polarity=0.7000000000000001, subjectivity=0.7999999999999999)\n",
      "RT @NASAHubble: #HubbleFriday The Tarantula Nebula is 1 of the most intense regions of star formation in our galactic neighborhood:\n",
      "https:/…\n",
      "Sentiment(polarity=0.35, subjectivity=0.75)\n",
      "there is a tarantula in my back yard. I really thought I would make it to 18.\n",
      "Sentiment(polarity=0.1, subjectivity=0.1)\n",
      "What kind of pets I have? I have a cat, a tarantula spider and a rat. No, the rat doesn't carry diseases. People are so paranoid.\n",
      "Sentiment(polarity=0.6, subjectivity=0.9)\n",
      "RT @CNET: Hubble spots creepy-crawly Tarantula Nebula https://t.co/hiNeLoeQfo https://t.co/Nw6mzQwhRh\n",
      "Sentiment(polarity=0.0, subjectivity=0.0)\n",
      "RT @NASAHubble: #HubbleFriday The Tarantula Nebula is 1 of the most intense regions of star formation in our galactic neighborhood:\n",
      "https:/…\n",
      "Sentiment(polarity=0.35, subjectivity=0.75)\n",
      "RT @CNET: Hubble spots creepy-crawly Tarantula Nebula https://t.co/hiNeLoeQfo https://t.co/Nw6mzQwhRh\n",
      "Sentiment(polarity=0.0, subjectivity=0.0)\n",
      "\"Masmaamo siya pag tinatawag mo siya sa pangalan nya\"\n",
      "Tangina ginawang aso yung Tarantula\n",
      "Sentiment(polarity=0.0, subjectivity=0.0)\n",
      "エルサルバドルフォーン(Stichoplastoris longistylus)\n",
      "https://t.co/bpM2Q6KFcI\n",
      "Sentiment(polarity=0.0, subjectivity=0.0)\n",
      "RT @NASAHubble: #HubbleFriday The Tarantula Nebula is 1 of the most intense regions of star formation in our galactic neighborhood:\n",
      "https:/…\n",
      "Sentiment(polarity=0.35, subjectivity=0.75)\n",
      "使ってみてください。いい物あります。https://t.co/bc2TYApYkj\n",
      "Sentiment(polarity=0.0, subjectivity=0.0)\n",
      "Quiero una tarantula d regalo\n",
      "Sentiment(polarity=0.0, subjectivity=0.0)\n",
      "A fucking tarantula really came into our room at work today 😩\n",
      "Sentiment(polarity=-0.19999999999999998, subjectivity=0.5)\n",
      "RT @bittibye: günaydın. bugün tarantula tarafından zehirlenip hunharca sikilen bi iguana gibi uyandım.\n",
      "Sentiment(polarity=0.0, subjectivity=0.0)\n"
     ]
    }
   ],
   "source": [
    "#for this prject we need to cretae an app at twitter application manager and then setup our code and also need to have the token access\n",
    "import tweepy             #library to access twitter APIs\n",
    "from textblob import TextBlob         #library to access text sentiments\n",
    "consumer_key = 'WAHM8zyTCjHLyrFmdJ1BRBOFc'        #consumerkey string located in twitter apps\n",
    "consumer_secret = 'Mqzu3XRWFYpTLxcLURidTXOQSTfJrADt5YyI9LTqYfF85GwBUx'    # consumer secret string located in twitter apps\n",
    "\n",
    "access_token = '2388991603-1y8M2Aihmvsfvpou72EGuG1pb18uGoQhYbqXH0h'       # access token genrated in twitter apps\n",
    "access_token_secret = 'IsldJ4CPVZINPxzzv5h23DuBGruxuayffVrbDmWtW655Y'    #access token secret genrated in twitter apps\n",
    "\n",
    "auth = tweepy.OAuthHandler(consumer_key, consumer_secret)       # auth is classifer which uses  OAuthHandler method to make us login via a code for authentication \n",
    "auth.set_access_token(access_token, access_token_secret)       #the other part is to set token access ...thats it we created our access token variable\n",
    "api = tweepy.API(auth)        # main variable to use\n",
    "\n",
    "public_tweets = api.search('Tarantula')#it will search all the tweets on twitter contaning the specified stirng\n",
    "text = []\n",
    "for tweet in public_tweets :#for loop to continue the work till end\n",
    "    tweets= []\n",
    "    tweets.append(tweet)\n",
    "    tweets.append(',')\n",
    "    print(tweet.text)#it will print the tweets where the specified word will be encountered\n",
    "    analysis = TextBlob(tweet.text)    #analysis is a variable to store the text analysis of the tweet\n",
    "    print(analysis.sentiment)  #it will print the tweet along with the sentiment and subjectivity ranging between -1 to 1"
   ]
  },
  {
   "cell_type": "code",
   "execution_count": 1,
   "metadata": {
    "collapsed": true
   },
   "outputs": [],
   "source": [
    "import pandas as pd"
   ]
  },
  {
   "cell_type": "code",
   "execution_count": 14,
   "metadata": {},
   "outputs": [
    {
     "data": {
      "text/plain": [
       "[Status(_api=<tweepy.api.API object at 0x1192caa58>, _json={'created_at': 'Sat Oct 07 03:57:16 +0000 2017', 'id': 916512724275941376, 'id_str': '916512724275941376', 'text': 'RT @bittibye: günaydın. bugün tarantula tarafından zehirlenip hunharca sikilen bi iguana gibi uyandım.', 'truncated': False, 'entities': {'hashtags': [], 'symbols': [], 'user_mentions': [{'screen_name': 'bittibye', 'name': 'bye', 'id': 634196871, 'id_str': '634196871', 'indices': [3, 12]}], 'urls': []}, 'metadata': {'result_type': 'recent', 'iso_language_code': 'tr'}, 'source': '<a href=\"http://twitter.com/download/iphone\" rel=\"nofollow\">Twitter for iPhone</a>', 'in_reply_to_status_id': None, 'in_reply_to_status_id_str': None, 'in_reply_to_user_id': None, 'in_reply_to_user_id_str': None, 'in_reply_to_screen_name': None, 'user': {'id': 634196871, 'id_str': '634196871', 'name': 'bye', 'screen_name': 'bittibye', 'location': '', 'description': 'Mısır püsküllerinin arasındaki kırmızı dudaklara merhaba.', 'url': None, 'entities': {'description': {'urls': []}}, 'protected': False, 'followers_count': 35718, 'friends_count': 223, 'listed_count': 15, 'created_at': 'Thu Jul 12 23:03:20 +0000 2012', 'favourites_count': 73, 'utc_offset': 10800, 'time_zone': 'Istanbul', 'geo_enabled': False, 'verified': False, 'statuses_count': 566, 'lang': 'tr', 'contributors_enabled': False, 'is_translator': False, 'is_translation_enabled': False, 'profile_background_color': 'C0DEED', 'profile_background_image_url': 'http://pbs.twimg.com/profile_background_images/654412559/i95hg1cyeupl9o2ww1in.gif', 'profile_background_image_url_https': 'https://pbs.twimg.com/profile_background_images/654412559/i95hg1cyeupl9o2ww1in.gif', 'profile_background_tile': True, 'profile_image_url': 'http://pbs.twimg.com/profile_images/913850513401229312/Sz3lSmAy_normal.jpg', 'profile_image_url_https': 'https://pbs.twimg.com/profile_images/913850513401229312/Sz3lSmAy_normal.jpg', 'profile_banner_url': 'https://pbs.twimg.com/profile_banners/634196871/1502661954', 'profile_link_color': '0084B4', 'profile_sidebar_border_color': 'FFFFFF', 'profile_sidebar_fill_color': 'DDEEF6', 'profile_text_color': '333333', 'profile_use_background_image': True, 'has_extended_profile': False, 'default_profile': False, 'default_profile_image': False, 'following': False, 'follow_request_sent': False, 'notifications': False, 'translator_type': 'regular'}, 'geo': None, 'coordinates': None, 'place': None, 'contributors': None, 'retweeted_status': {'created_at': 'Fri Mar 27 05:33:47 +0000 2015', 'id': 581328238313635840, 'id_str': '581328238313635840', 'text': 'günaydın. bugün tarantula tarafından zehirlenip hunharca sikilen bi iguana gibi uyandım.', 'truncated': False, 'entities': {'hashtags': [], 'symbols': [], 'user_mentions': [], 'urls': []}, 'metadata': {'result_type': 'recent', 'iso_language_code': 'tr'}, 'source': '<a href=\"http://twitter.com\" rel=\"nofollow\">Twitter Web Client</a>', 'in_reply_to_status_id': None, 'in_reply_to_status_id_str': None, 'in_reply_to_user_id': None, 'in_reply_to_user_id_str': None, 'in_reply_to_screen_name': None, 'user': {'id': 634196871, 'id_str': '634196871', 'name': 'bye', 'screen_name': 'bittibye', 'location': '', 'description': 'Mısır püsküllerinin arasındaki kırmızı dudaklara merhaba.', 'url': None, 'entities': {'description': {'urls': []}}, 'protected': False, 'followers_count': 35718, 'friends_count': 223, 'listed_count': 15, 'created_at': 'Thu Jul 12 23:03:20 +0000 2012', 'favourites_count': 73, 'utc_offset': 10800, 'time_zone': 'Istanbul', 'geo_enabled': False, 'verified': False, 'statuses_count': 566, 'lang': 'tr', 'contributors_enabled': False, 'is_translator': False, 'is_translation_enabled': False, 'profile_background_color': 'C0DEED', 'profile_background_image_url': 'http://pbs.twimg.com/profile_background_images/654412559/i95hg1cyeupl9o2ww1in.gif', 'profile_background_image_url_https': 'https://pbs.twimg.com/profile_background_images/654412559/i95hg1cyeupl9o2ww1in.gif', 'profile_background_tile': True, 'profile_image_url': 'http://pbs.twimg.com/profile_images/913850513401229312/Sz3lSmAy_normal.jpg', 'profile_image_url_https': 'https://pbs.twimg.com/profile_images/913850513401229312/Sz3lSmAy_normal.jpg', 'profile_banner_url': 'https://pbs.twimg.com/profile_banners/634196871/1502661954', 'profile_link_color': '0084B4', 'profile_sidebar_border_color': 'FFFFFF', 'profile_sidebar_fill_color': 'DDEEF6', 'profile_text_color': '333333', 'profile_use_background_image': True, 'has_extended_profile': False, 'default_profile': False, 'default_profile_image': False, 'following': False, 'follow_request_sent': False, 'notifications': False, 'translator_type': 'regular'}, 'geo': None, 'coordinates': None, 'place': None, 'contributors': None, 'is_quote_status': False, 'retweet_count': 48, 'favorite_count': 81, 'favorited': False, 'retweeted': False, 'lang': 'tr'}, 'is_quote_status': False, 'retweet_count': 48, 'favorite_count': 0, 'favorited': False, 'retweeted': False, 'lang': 'tr'}, created_at=datetime.datetime(2017, 10, 7, 3, 57, 16), id=916512724275941376, id_str='916512724275941376', text='RT @bittibye: günaydın. bugün tarantula tarafından zehirlenip hunharca sikilen bi iguana gibi uyandım.', truncated=False, entities={'hashtags': [], 'symbols': [], 'user_mentions': [{'screen_name': 'bittibye', 'name': 'bye', 'id': 634196871, 'id_str': '634196871', 'indices': [3, 12]}], 'urls': []}, metadata={'result_type': 'recent', 'iso_language_code': 'tr'}, source='Twitter for iPhone', source_url='http://twitter.com/download/iphone', in_reply_to_status_id=None, in_reply_to_status_id_str=None, in_reply_to_user_id=None, in_reply_to_user_id_str=None, in_reply_to_screen_name=None, author=User(_api=<tweepy.api.API object at 0x1192caa58>, _json={'id': 634196871, 'id_str': '634196871', 'name': 'bye', 'screen_name': 'bittibye', 'location': '', 'description': 'Mısır püsküllerinin arasındaki kırmızı dudaklara merhaba.', 'url': None, 'entities': {'description': {'urls': []}}, 'protected': False, 'followers_count': 35718, 'friends_count': 223, 'listed_count': 15, 'created_at': 'Thu Jul 12 23:03:20 +0000 2012', 'favourites_count': 73, 'utc_offset': 10800, 'time_zone': 'Istanbul', 'geo_enabled': False, 'verified': False, 'statuses_count': 566, 'lang': 'tr', 'contributors_enabled': False, 'is_translator': False, 'is_translation_enabled': False, 'profile_background_color': 'C0DEED', 'profile_background_image_url': 'http://pbs.twimg.com/profile_background_images/654412559/i95hg1cyeupl9o2ww1in.gif', 'profile_background_image_url_https': 'https://pbs.twimg.com/profile_background_images/654412559/i95hg1cyeupl9o2ww1in.gif', 'profile_background_tile': True, 'profile_image_url': 'http://pbs.twimg.com/profile_images/913850513401229312/Sz3lSmAy_normal.jpg', 'profile_image_url_https': 'https://pbs.twimg.com/profile_images/913850513401229312/Sz3lSmAy_normal.jpg', 'profile_banner_url': 'https://pbs.twimg.com/profile_banners/634196871/1502661954', 'profile_link_color': '0084B4', 'profile_sidebar_border_color': 'FFFFFF', 'profile_sidebar_fill_color': 'DDEEF6', 'profile_text_color': '333333', 'profile_use_background_image': True, 'has_extended_profile': False, 'default_profile': False, 'default_profile_image': False, 'following': False, 'follow_request_sent': False, 'notifications': False, 'translator_type': 'regular'}, id=634196871, id_str='634196871', name='bye', screen_name='bittibye', location='', description='Mısır püsküllerinin arasındaki kırmızı dudaklara merhaba.', url=None, entities={'description': {'urls': []}}, protected=False, followers_count=35718, friends_count=223, listed_count=15, created_at=datetime.datetime(2012, 7, 12, 23, 3, 20), favourites_count=73, utc_offset=10800, time_zone='Istanbul', geo_enabled=False, verified=False, statuses_count=566, lang='tr', contributors_enabled=False, is_translator=False, is_translation_enabled=False, profile_background_color='C0DEED', profile_background_image_url='http://pbs.twimg.com/profile_background_images/654412559/i95hg1cyeupl9o2ww1in.gif', profile_background_image_url_https='https://pbs.twimg.com/profile_background_images/654412559/i95hg1cyeupl9o2ww1in.gif', profile_background_tile=True, profile_image_url='http://pbs.twimg.com/profile_images/913850513401229312/Sz3lSmAy_normal.jpg', profile_image_url_https='https://pbs.twimg.com/profile_images/913850513401229312/Sz3lSmAy_normal.jpg', profile_banner_url='https://pbs.twimg.com/profile_banners/634196871/1502661954', profile_link_color='0084B4', profile_sidebar_border_color='FFFFFF', profile_sidebar_fill_color='DDEEF6', profile_text_color='333333', profile_use_background_image=True, has_extended_profile=False, default_profile=False, default_profile_image=False, following=False, follow_request_sent=False, notifications=False, translator_type='regular'), user=User(_api=<tweepy.api.API object at 0x1192caa58>, _json={'id': 634196871, 'id_str': '634196871', 'name': 'bye', 'screen_name': 'bittibye', 'location': '', 'description': 'Mısır püsküllerinin arasındaki kırmızı dudaklara merhaba.', 'url': None, 'entities': {'description': {'urls': []}}, 'protected': False, 'followers_count': 35718, 'friends_count': 223, 'listed_count': 15, 'created_at': 'Thu Jul 12 23:03:20 +0000 2012', 'favourites_count': 73, 'utc_offset': 10800, 'time_zone': 'Istanbul', 'geo_enabled': False, 'verified': False, 'statuses_count': 566, 'lang': 'tr', 'contributors_enabled': False, 'is_translator': False, 'is_translation_enabled': False, 'profile_background_color': 'C0DEED', 'profile_background_image_url': 'http://pbs.twimg.com/profile_background_images/654412559/i95hg1cyeupl9o2ww1in.gif', 'profile_background_image_url_https': 'https://pbs.twimg.com/profile_background_images/654412559/i95hg1cyeupl9o2ww1in.gif', 'profile_background_tile': True, 'profile_image_url': 'http://pbs.twimg.com/profile_images/913850513401229312/Sz3lSmAy_normal.jpg', 'profile_image_url_https': 'https://pbs.twimg.com/profile_images/913850513401229312/Sz3lSmAy_normal.jpg', 'profile_banner_url': 'https://pbs.twimg.com/profile_banners/634196871/1502661954', 'profile_link_color': '0084B4', 'profile_sidebar_border_color': 'FFFFFF', 'profile_sidebar_fill_color': 'DDEEF6', 'profile_text_color': '333333', 'profile_use_background_image': True, 'has_extended_profile': False, 'default_profile': False, 'default_profile_image': False, 'following': False, 'follow_request_sent': False, 'notifications': False, 'translator_type': 'regular'}, id=634196871, id_str='634196871', name='bye', screen_name='bittibye', location='', description='Mısır püsküllerinin arasındaki kırmızı dudaklara merhaba.', url=None, entities={'description': {'urls': []}}, protected=False, followers_count=35718, friends_count=223, listed_count=15, created_at=datetime.datetime(2012, 7, 12, 23, 3, 20), favourites_count=73, utc_offset=10800, time_zone='Istanbul', geo_enabled=False, verified=False, statuses_count=566, lang='tr', contributors_enabled=False, is_translator=False, is_translation_enabled=False, profile_background_color='C0DEED', profile_background_image_url='http://pbs.twimg.com/profile_background_images/654412559/i95hg1cyeupl9o2ww1in.gif', profile_background_image_url_https='https://pbs.twimg.com/profile_background_images/654412559/i95hg1cyeupl9o2ww1in.gif', profile_background_tile=True, profile_image_url='http://pbs.twimg.com/profile_images/913850513401229312/Sz3lSmAy_normal.jpg', profile_image_url_https='https://pbs.twimg.com/profile_images/913850513401229312/Sz3lSmAy_normal.jpg', profile_banner_url='https://pbs.twimg.com/profile_banners/634196871/1502661954', profile_link_color='0084B4', profile_sidebar_border_color='FFFFFF', profile_sidebar_fill_color='DDEEF6', profile_text_color='333333', profile_use_background_image=True, has_extended_profile=False, default_profile=False, default_profile_image=False, following=False, follow_request_sent=False, notifications=False, translator_type='regular'), geo=None, coordinates=None, place=None, contributors=None, retweeted_status=Status(_api=<tweepy.api.API object at 0x1192caa58>, _json={'created_at': 'Fri Mar 27 05:33:47 +0000 2015', 'id': 581328238313635840, 'id_str': '581328238313635840', 'text': 'günaydın. bugün tarantula tarafından zehirlenip hunharca sikilen bi iguana gibi uyandım.', 'truncated': False, 'entities': {'hashtags': [], 'symbols': [], 'user_mentions': [], 'urls': []}, 'metadata': {'result_type': 'recent', 'iso_language_code': 'tr'}, 'source': '<a href=\"http://twitter.com\" rel=\"nofollow\">Twitter Web Client</a>', 'in_reply_to_status_id': None, 'in_reply_to_status_id_str': None, 'in_reply_to_user_id': None, 'in_reply_to_user_id_str': None, 'in_reply_to_screen_name': None, 'user': {'id': 634196871, 'id_str': '634196871', 'name': 'bye', 'screen_name': 'bittibye', 'location': '', 'description': 'Mısır püsküllerinin arasındaki kırmızı dudaklara merhaba.', 'url': None, 'entities': {'description': {'urls': []}}, 'protected': False, 'followers_count': 35718, 'friends_count': 223, 'listed_count': 15, 'created_at': 'Thu Jul 12 23:03:20 +0000 2012', 'favourites_count': 73, 'utc_offset': 10800, 'time_zone': 'Istanbul', 'geo_enabled': False, 'verified': False, 'statuses_count': 566, 'lang': 'tr', 'contributors_enabled': False, 'is_translator': False, 'is_translation_enabled': False, 'profile_background_color': 'C0DEED', 'profile_background_image_url': 'http://pbs.twimg.com/profile_background_images/654412559/i95hg1cyeupl9o2ww1in.gif', 'profile_background_image_url_https': 'https://pbs.twimg.com/profile_background_images/654412559/i95hg1cyeupl9o2ww1in.gif', 'profile_background_tile': True, 'profile_image_url': 'http://pbs.twimg.com/profile_images/913850513401229312/Sz3lSmAy_normal.jpg', 'profile_image_url_https': 'https://pbs.twimg.com/profile_images/913850513401229312/Sz3lSmAy_normal.jpg', 'profile_banner_url': 'https://pbs.twimg.com/profile_banners/634196871/1502661954', 'profile_link_color': '0084B4', 'profile_sidebar_border_color': 'FFFFFF', 'profile_sidebar_fill_color': 'DDEEF6', 'profile_text_color': '333333', 'profile_use_background_image': True, 'has_extended_profile': False, 'default_profile': False, 'default_profile_image': False, 'following': False, 'follow_request_sent': False, 'notifications': False, 'translator_type': 'regular'}, 'geo': None, 'coordinates': None, 'place': None, 'contributors': None, 'is_quote_status': False, 'retweet_count': 48, 'favorite_count': 81, 'favorited': False, 'retweeted': False, 'lang': 'tr'}, created_at=datetime.datetime(2015, 3, 27, 5, 33, 47), id=581328238313635840, id_str='581328238313635840', text='günaydın. bugün tarantula tarafından zehirlenip hunharca sikilen bi iguana gibi uyandım.', truncated=False, entities={'hashtags': [], 'symbols': [], 'user_mentions': [], 'urls': []}, metadata={'result_type': 'recent', 'iso_language_code': 'tr'}, source='Twitter Web Client', source_url='http://twitter.com', in_reply_to_status_id=None, in_reply_to_status_id_str=None, in_reply_to_user_id=None, in_reply_to_user_id_str=None, in_reply_to_screen_name=None, author=User(_api=<tweepy.api.API object at 0x1192caa58>, _json={'id': 634196871, 'id_str': '634196871', 'name': 'bye', 'screen_name': 'bittibye', 'location': '', 'description': 'Mısır püsküllerinin arasındaki kırmızı dudaklara merhaba.', 'url': None, 'entities': {'description': {'urls': []}}, 'protected': False, 'followers_count': 35718, 'friends_count': 223, 'listed_count': 15, 'created_at': 'Thu Jul 12 23:03:20 +0000 2012', 'favourites_count': 73, 'utc_offset': 10800, 'time_zone': 'Istanbul', 'geo_enabled': False, 'verified': False, 'statuses_count': 566, 'lang': 'tr', 'contributors_enabled': False, 'is_translator': False, 'is_translation_enabled': False, 'profile_background_color': 'C0DEED', 'profile_background_image_url': 'http://pbs.twimg.com/profile_background_images/654412559/i95hg1cyeupl9o2ww1in.gif', 'profile_background_image_url_https': 'https://pbs.twimg.com/profile_background_images/654412559/i95hg1cyeupl9o2ww1in.gif', 'profile_background_tile': True, 'profile_image_url': 'http://pbs.twimg.com/profile_images/913850513401229312/Sz3lSmAy_normal.jpg', 'profile_image_url_https': 'https://pbs.twimg.com/profile_images/913850513401229312/Sz3lSmAy_normal.jpg', 'profile_banner_url': 'https://pbs.twimg.com/profile_banners/634196871/1502661954', 'profile_link_color': '0084B4', 'profile_sidebar_border_color': 'FFFFFF', 'profile_sidebar_fill_color': 'DDEEF6', 'profile_text_color': '333333', 'profile_use_background_image': True, 'has_extended_profile': False, 'default_profile': False, 'default_profile_image': False, 'following': False, 'follow_request_sent': False, 'notifications': False, 'translator_type': 'regular'}, id=634196871, id_str='634196871', name='bye', screen_name='bittibye', location='', description='Mısır püsküllerinin arasındaki kırmızı dudaklara merhaba.', url=None, entities={'description': {'urls': []}}, protected=False, followers_count=35718, friends_count=223, listed_count=15, created_at=datetime.datetime(2012, 7, 12, 23, 3, 20), favourites_count=73, utc_offset=10800, time_zone='Istanbul', geo_enabled=False, verified=False, statuses_count=566, lang='tr', contributors_enabled=False, is_translator=False, is_translation_enabled=False, profile_background_color='C0DEED', profile_background_image_url='http://pbs.twimg.com/profile_background_images/654412559/i95hg1cyeupl9o2ww1in.gif', profile_background_image_url_https='https://pbs.twimg.com/profile_background_images/654412559/i95hg1cyeupl9o2ww1in.gif', profile_background_tile=True, profile_image_url='http://pbs.twimg.com/profile_images/913850513401229312/Sz3lSmAy_normal.jpg', profile_image_url_https='https://pbs.twimg.com/profile_images/913850513401229312/Sz3lSmAy_normal.jpg', profile_banner_url='https://pbs.twimg.com/profile_banners/634196871/1502661954', profile_link_color='0084B4', profile_sidebar_border_color='FFFFFF', profile_sidebar_fill_color='DDEEF6', profile_text_color='333333', profile_use_background_image=True, has_extended_profile=False, default_profile=False, default_profile_image=False, following=False, follow_request_sent=False, notifications=False, translator_type='regular'), user=User(_api=<tweepy.api.API object at 0x1192caa58>, _json={'id': 634196871, 'id_str': '634196871', 'name': 'bye', 'screen_name': 'bittibye', 'location': '', 'description': 'Mısır püsküllerinin arasındaki kırmızı dudaklara merhaba.', 'url': None, 'entities': {'description': {'urls': []}}, 'protected': False, 'followers_count': 35718, 'friends_count': 223, 'listed_count': 15, 'created_at': 'Thu Jul 12 23:03:20 +0000 2012', 'favourites_count': 73, 'utc_offset': 10800, 'time_zone': 'Istanbul', 'geo_enabled': False, 'verified': False, 'statuses_count': 566, 'lang': 'tr', 'contributors_enabled': False, 'is_translator': False, 'is_translation_enabled': False, 'profile_background_color': 'C0DEED', 'profile_background_image_url': 'http://pbs.twimg.com/profile_background_images/654412559/i95hg1cyeupl9o2ww1in.gif', 'profile_background_image_url_https': 'https://pbs.twimg.com/profile_background_images/654412559/i95hg1cyeupl9o2ww1in.gif', 'profile_background_tile': True, 'profile_image_url': 'http://pbs.twimg.com/profile_images/913850513401229312/Sz3lSmAy_normal.jpg', 'profile_image_url_https': 'https://pbs.twimg.com/profile_images/913850513401229312/Sz3lSmAy_normal.jpg', 'profile_banner_url': 'https://pbs.twimg.com/profile_banners/634196871/1502661954', 'profile_link_color': '0084B4', 'profile_sidebar_border_color': 'FFFFFF', 'profile_sidebar_fill_color': 'DDEEF6', 'profile_text_color': '333333', 'profile_use_background_image': True, 'has_extended_profile': False, 'default_profile': False, 'default_profile_image': False, 'following': False, 'follow_request_sent': False, 'notifications': False, 'translator_type': 'regular'}, id=634196871, id_str='634196871', name='bye', screen_name='bittibye', location='', description='Mısır püsküllerinin arasındaki kırmızı dudaklara merhaba.', url=None, entities={'description': {'urls': []}}, protected=False, followers_count=35718, friends_count=223, listed_count=15, created_at=datetime.datetime(2012, 7, 12, 23, 3, 20), favourites_count=73, utc_offset=10800, time_zone='Istanbul', geo_enabled=False, verified=False, statuses_count=566, lang='tr', contributors_enabled=False, is_translator=False, is_translation_enabled=False, profile_background_color='C0DEED', profile_background_image_url='http://pbs.twimg.com/profile_background_images/654412559/i95hg1cyeupl9o2ww1in.gif', profile_background_image_url_https='https://pbs.twimg.com/profile_background_images/654412559/i95hg1cyeupl9o2ww1in.gif', profile_background_tile=True, profile_image_url='http://pbs.twimg.com/profile_images/913850513401229312/Sz3lSmAy_normal.jpg', profile_image_url_https='https://pbs.twimg.com/profile_images/913850513401229312/Sz3lSmAy_normal.jpg', profile_banner_url='https://pbs.twimg.com/profile_banners/634196871/1502661954', profile_link_color='0084B4', profile_sidebar_border_color='FFFFFF', profile_sidebar_fill_color='DDEEF6', profile_text_color='333333', profile_use_background_image=True, has_extended_profile=False, default_profile=False, default_profile_image=False, following=False, follow_request_sent=False, notifications=False, translator_type='regular'), geo=None, coordinates=None, place=None, contributors=None, is_quote_status=False, retweet_count=48, favorite_count=81, favorited=False, retweeted=False, lang='tr'), is_quote_status=False, retweet_count=48, favorite_count=0, favorited=False, retweeted=False, lang='tr'),\n",
       " ',']"
      ]
     },
     "execution_count": 14,
     "metadata": {},
     "output_type": "execute_result"
    }
   ],
   "source": [
    "tweets"
   ]
  },
  {
   "cell_type": "code",
   "execution_count": 15,
   "metadata": {
    "collapsed": true
   },
   "outputs": [],
   "source": [
    "tweets = pd.DataFrame(tweets)"
   ]
  },
  {
   "cell_type": "code",
   "execution_count": null,
   "metadata": {
    "collapsed": true
   },
   "outputs": [],
   "source": []
  },
  {
   "cell_type": "code",
   "execution_count": 58,
   "metadata": {
    "collapsed": true
   },
   "outputs": [],
   "source": [
    "#tweets['text'] = tweets[0].split(',')"
   ]
  },
  {
   "cell_type": "code",
   "execution_count": 59,
   "metadata": {
    "collapsed": true
   },
   "outputs": [],
   "source": [
    "#zomato API - 7c8c64cf93fbea38a515c4f5fc88e639"
   ]
  },
  {
   "cell_type": "code",
   "execution_count": 63,
   "metadata": {
    "collapsed": true
   },
   "outputs": [],
   "source": [
    "import urllib3\n",
    "import json\n",
    " \n",
    "locu_api = '7c8c64cf93fbea38a515c4f5fc88e639'\n",
    " \n",
    "def locu_search(query):\n",
    "    api_key = locu_api\n",
    "    url = 'https://api.locu.com/v1_0/venue/search/?api_key=' + api_key\n",
    "    locality = query.replace(' ', '%20')\n",
    "    final_url = url + \"&locality=\" + locality + \"&category=restaurant\"\n",
    "    json_obj = urllib2.urlopen(final_url)\n",
    "    data = json.load(json_obj)\n",
    "   \n",
    "    for item in data['objects']:\n",
    "        print (item['name'], item['phone'])"
   ]
  },
  {
   "cell_type": "code",
   "execution_count": 3,
   "metadata": {
    "collapsed": true
   },
   "outputs": [],
   "source": [
    "#from zomatolib.zomatoapi import ZomatoAPI....another way yrt to search"
   ]
  },
  {
   "cell_type": "code",
   "execution_count": 5,
   "metadata": {
    "collapsed": true
   },
   "outputs": [],
   "source": [
    "#var zomato = require('zomato');    for kotlin in android"
   ]
  },
  {
   "cell_type": "code",
   "execution_count": 2,
   "metadata": {
    "collapsed": true
   },
   "outputs": [],
   "source": [
    "import plotly.plotly as py     #library for better plotting in graph"
   ]
  },
  {
   "cell_type": "code",
   "execution_count": 5,
   "metadata": {
    "collapsed": true
   },
   "outputs": [],
   "source": [
    "from bigml.api import BigML  #bigml is library for using api"
   ]
  },
  {
   "cell_type": "code",
   "execution_count": 4,
   "metadata": {
    "collapsed": true
   },
   "outputs": [],
   "source": [
    "from surprise import dataset #library for using recommender"
   ]
  },
  {
   "cell_type": "code",
   "execution_count": null,
   "metadata": {
    "collapsed": true
   },
   "outputs": [],
   "source": []
  },
  {
   "cell_type": "code",
   "execution_count": null,
   "metadata": {},
   "outputs": [],
   "source": []
  },
  {
   "cell_type": "code",
   "execution_count": null,
   "metadata": {},
   "outputs": [],
   "source": []
  },
  {
   "cell_type": "code",
   "execution_count": null,
   "metadata": {
    "collapsed": true
   },
   "outputs": [],
   "source": []
  }
 ],
 "metadata": {
  "kernelspec": {
   "display_name": "Python 3",
   "language": "python",
   "name": "python3"
  },
  "language_info": {
   "codemirror_mode": {
    "name": "ipython",
    "version": 3
   },
   "file_extension": ".py",
   "mimetype": "text/x-python",
   "name": "python",
   "nbconvert_exporter": "python",
   "pygments_lexer": "ipython3",
   "version": "3.6.1"
  }
 },
 "nbformat": 4,
 "nbformat_minor": 2
}
